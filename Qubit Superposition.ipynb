{
 "cells": [
  {
   "cell_type": "code",
   "execution_count": 30,
   "metadata": {},
   "outputs": [],
   "source": [
    "import projectq.setups.ibm # Imports the default compiler to map to IBM QE\n",
    "from projectq.backends import IBMBackend\n",
    "from projectq.ops import H, Measure\n",
    "from projectq import MainEngine"
   ]
  },
  {
   "cell_type": "markdown",
   "metadata": {},
   "source": [
    "MainEngine will default use emulator but we will try a real quantum backend, ibmqx4.<br>"
   ]
  },
  {
   "cell_type": "code",
   "execution_count": 31,
   "metadata": {},
   "outputs": [],
   "source": [
    "quantum_engine = MainEngine(IBMBackend(use_hardware=True,  num_runs=1024, verbose=True, device='ibmqx4'),\n",
    "                    engine_list=projectq.setups.ibm.get_engine_list())\n",
    "qubit = quantum_engine.allocate_qubit()"
   ]
  },
  {
   "cell_type": "markdown",
   "metadata": {},
   "source": [
    "Okay! We now have a qubit.<br>\n",
    "Lets put it in superposition using a Hadamard gate.<br>\n",
    "Its like flipping a coin. As long as its in the air its both 0 and 1.<br>\n",
    "When measured its 0 or 1.<br> \n",
    "So the Hadamard gate is binary random generator."
   ]
  },
  {
   "cell_type": "code",
   "execution_count": 32,
   "metadata": {},
   "outputs": [],
   "source": [
    "# You can apply a gate by pipe:ing through qubit\n",
    "H | qubit\n",
    "# Now its in superposition.. the coin is in the air"
   ]
  },
  {
   "cell_type": "code",
   "execution_count": 33,
   "metadata": {},
   "outputs": [],
   "source": [
    "# Measure it like this .. \n",
    "# ... grabing the coin with one hand in mid air, slamming it on backface of your other hand :)\n",
    "Measure | qubit"
   ]
  },
  {
   "cell_type": "code",
   "execution_count": 35,
   "metadata": {},
   "outputs": [
    {
     "name": "stdout",
     "output_type": "stream",
     "text": [
      "- Authenticating...\n",
      "IBM QE user (e-mail) > andreas.lewitzki@telenor.se\n",
      "IBM QE password > ········\n",
      "- Running code: \n",
      "include \"qelib1.inc\";\n",
      "qreg q[1];\n",
      "creg c[1];\n",
      "h q[0];\n",
      "measure q[0] -> c[0];\n",
      "- Waiting for results...\n",
      "Waiting for results. [Job ID: 5b89a060ee122b003d8284b3]\n",
      "Currently there are 12 jobs queued for execution on ibmqx4.\n",
      "Currently there are 9 jobs queued for execution on ibmqx4.\n",
      "Currently there are 20 jobs queued for execution on ibmqx4.\n",
      "Currently there are 20 jobs queued for execution on ibmqx4.\n",
      "Currently there are 19 jobs queued for execution on ibmqx4.\n",
      "Currently there are 18 jobs queued for execution on ibmqx4.\n",
      "- Done.\n",
      "00000 with p = 0.544921875\n",
      "10000 with p = 0.455078125*\n"
     ]
    }
   ],
   "source": [
    "quantum_engine.flush()"
   ]
  },
  {
   "cell_type": "code",
   "execution_count": 37,
   "metadata": {},
   "outputs": [
    {
     "name": "stdout",
     "output_type": "stream",
     "text": [
      "1\n"
     ]
    }
   ],
   "source": [
    "# Lets open upp the hand and check the result..\n",
    "print(int(qubit))"
   ]
  },
  {
   "cell_type": "markdown",
   "metadata": {},
   "source": [
    "...woah ... quantum superposition power!"
   ]
  }
 ],
 "metadata": {
  "kernelspec": {
   "display_name": "Python 3",
   "language": "python",
   "name": "python3"
  },
  "language_info": {
   "codemirror_mode": {
    "name": "ipython",
    "version": 3
   },
   "file_extension": ".py",
   "mimetype": "text/x-python",
   "name": "python",
   "nbconvert_exporter": "python",
   "pygments_lexer": "ipython3",
   "version": "3.6.6"
  }
 },
 "nbformat": 4,
 "nbformat_minor": 2
}
